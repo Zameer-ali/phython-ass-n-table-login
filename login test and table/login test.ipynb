{
 "cells": [
  {
   "cell_type": "code",
   "execution_count": null,
   "id": "89e2134d-43b8-47d8-90e8-ce607606752c",
   "metadata": {},
   "outputs": [],
   "source": [
    "users = [\n",
    "{\"id\":1, \"name\":\"zameer\", \"username\":\"zameer\", \"phone\":'03082345345', \"password\":\"as123ww\"},\n",
    "{\"id\":2, \"name\":\"sajad\", \"username\":\"sajad\", \"phone\":'123456755', \"password\":\"23jh342\"},\n",
    "{\"id\":3, \"name\":\"jawad\", \"username\":\"jawad12\", \"phone\":'87665434243', \"password\":\"hf765fd\"}\n",
    "]\n",
    "username = input('Enter User name')\n",
    "password = input('Enter password')\n",
    "success = 1;\n",
    "for data in users:\n",
    "    if (username == data['username'] or username == data['phone'] and password == data['password']):\n",
    "        success = 0;\n",
    "        print(\"Login Successfully \" + data[\"name\"]);\n",
    "        break;\n",
    "if (success):\n",
    "    print('Invalid Credentials')"
   ]
  },
  {
   "cell_type": "code",
   "execution_count": null,
   "id": "8f4a87aa-6894-4af5-b1be-f46f86a386dc",
   "metadata": {},
   "outputs": [],
   "source": []
  }
 ],
 "metadata": {
  "kernelspec": {
   "display_name": "Python 3 (ipykernel)",
   "language": "python",
   "name": "python3"
  },
  "language_info": {
   "codemirror_mode": {
    "name": "ipython",
    "version": 3
   },
   "file_extension": ".py",
   "mimetype": "text/x-python",
   "name": "python",
   "nbconvert_exporter": "python",
   "pygments_lexer": "ipython3",
   "version": "3.9.13"
  }
 },
 "nbformat": 4,
 "nbformat_minor": 5
}
